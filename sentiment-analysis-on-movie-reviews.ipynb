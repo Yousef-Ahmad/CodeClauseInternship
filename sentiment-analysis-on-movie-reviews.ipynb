{
 "cells": [
  {
   "cell_type": "markdown",
   "metadata": {},
   "source": [
    "## Analyze Sentiment in Movie Reviews\n",
    "The primary aim of this project is to analyze sentiment in movie reviews using Natural Language Processing (NLP) techniques. Additionally, we will apply K-Means clustering to segment customers based on their purchase behavior."
   ]
  },
  {
   "cell_type": "markdown",
   "metadata": {},
   "source": [
    "## Data Loading"
   ]
  },
  {
   "cell_type": "code",
   "execution_count": 8,
   "metadata": {},
   "outputs": [
    {
     "name": "stdout",
     "output_type": "stream",
     "text": [
      "   PhraseId  SentenceId                                             Phrase  \\\n",
      "0         1           1  A series of escapades demonstrating the adage ...   \n",
      "1         2           1  A series of escapades demonstrating the adage ...   \n",
      "2         3           1                                           A series   \n",
      "3         4           1                                                  A   \n",
      "4         5           1                                             series   \n",
      "\n",
      "   Sentiment  \n",
      "0          1  \n",
      "1          2  \n",
      "2          2  \n",
      "3          2  \n",
      "4          2  \n",
      "   PhraseId  SentenceId                                             Phrase\n",
      "0    156061        8545  An intermittently pleasing but mostly routine ...\n",
      "1    156062        8545  An intermittently pleasing but mostly routine ...\n",
      "2    156063        8545                                                 An\n",
      "3    156064        8545  intermittently pleasing but mostly routine effort\n",
      "4    156065        8545         intermittently pleasing but mostly routine\n"
     ]
    }
   ],
   "source": [
    "import pandas as pd\n",
    "\n",
    "# Load datasets with the correct delimiter\n",
    "train_data = pd.read_csv(r\"C:\\Users\\youse\\Desktop\\CodeClause\\sentiment-analysis-on-movie-reviews\\train.tsv\\train.tsv\", delimiter='\\t')\n",
    "test_data = pd.read_csv(r\"C:\\Users\\youse\\Desktop\\CodeClause\\sentiment-analysis-on-movie-reviews\\test.tsv\\test.tsv\", delimiter='\\t')\n",
    "\n",
    "# Display the first few rows of the datasets\n",
    "print(train_data.head())\n",
    "print(test_data.head())\n"
   ]
  },
  {
   "cell_type": "code",
   "execution_count": 11,
   "metadata": {},
   "outputs": [
    {
     "name": "stdout",
     "output_type": "stream",
     "text": [
      "Index(['PhraseId', 'SentenceId', 'Phrase', 'Sentiment'], dtype='object')\n",
      "Index(['PhraseId', 'SentenceId', 'Phrase'], dtype='object')\n"
     ]
    }
   ],
   "source": [
    "# Display the columns of the datasets\n",
    "print(train_data.columns)\n",
    "print(test_data.columns)"
   ]
  },
  {
   "cell_type": "code",
   "execution_count": 24,
   "metadata": {},
   "outputs": [
    {
     "name": "stdout",
     "output_type": "stream",
     "text": [
      "Null values in train_data:\n",
      "PhraseId          0\n",
      "SentenceId        0\n",
      "Phrase            0\n",
      "Sentiment         0\n",
      "cleaned_phrase    0\n",
      "dtype: int64\n",
      "\n",
      "Null values in test_data:\n",
      "PhraseId               0\n",
      "SentenceId             0\n",
      "Phrase                 0\n",
      "cleaned_phrase         0\n",
      "predicted_sentiment    0\n",
      "dtype: int64\n"
     ]
    }
   ],
   "source": [
    "# Check for null values in train_data\n",
    "null_train = train_data.isnull().sum()\n",
    "print(\"Null values in train_data:\")\n",
    "print(null_train)\n",
    "\n",
    "# Check for null values in test_data\n",
    "null_test = test_data.isnull().sum()\n",
    "print(\"\\nNull values in test_data:\")\n",
    "print(null_test)\n",
    "\n",
    "# Remove rows with null values in train_data\n",
    "train_data.dropna(inplace=True)\n",
    "\n",
    "# Remove rows with null values in test_data\n",
    "test_data.dropna(inplace=True)\n"
   ]
  },
  {
   "cell_type": "code",
   "execution_count": 26,
   "metadata": {},
   "outputs": [
    {
     "name": "stdout",
     "output_type": "stream",
     "text": [
      "\n",
      "Duplicates in train_data: 0\n",
      "Duplicates in test_data: 0\n"
     ]
    }
   ],
   "source": [
    "# Check for duplicates in train_data\n",
    "duplicate_train = train_data.duplicated().sum()\n",
    "print(\"\\nDuplicates in train_data:\", duplicate_train)\n",
    "\n",
    "# Check for duplicates in test_data\n",
    "duplicate_test = test_data.duplicated().sum()\n",
    "print(\"Duplicates in test_data:\", duplicate_test)\n"
   ]
  },
  {
   "cell_type": "markdown",
   "metadata": {},
   "source": [
    "##  Text Preprocessing"
   ]
  },
  {
   "cell_type": "code",
   "execution_count": 27,
   "metadata": {},
   "outputs": [
    {
     "name": "stderr",
     "output_type": "stream",
     "text": [
      "[nltk_data] Downloading package stopwords to\n",
      "[nltk_data]     C:\\Users\\youse\\AppData\\Roaming\\nltk_data...\n",
      "[nltk_data]   Package stopwords is already up-to-date!\n",
      "[nltk_data] Downloading package punkt to\n",
      "[nltk_data]     C:\\Users\\youse\\AppData\\Roaming\\nltk_data...\n",
      "[nltk_data]   Package punkt is already up-to-date!\n",
      "[nltk_data] Downloading package wordnet to\n",
      "[nltk_data]     C:\\Users\\youse\\AppData\\Roaming\\nltk_data...\n",
      "[nltk_data]   Package wordnet is already up-to-date!\n"
     ]
    },
    {
     "name": "stdout",
     "output_type": "stream",
     "text": [
      "   PhraseId  SentenceId                                             Phrase  \\\n",
      "0         1           1  A series of escapades demonstrating the adage ...   \n",
      "1         2           1  A series of escapades demonstrating the adage ...   \n",
      "2         3           1                                           A series   \n",
      "3         4           1                                                  A   \n",
      "4         5           1                                             series   \n",
      "\n",
      "   Sentiment                                     cleaned_phrase  \n",
      "0          1  series escapade demonstrating adage good goose...  \n",
      "1          2     series escapade demonstrating adage good goose  \n",
      "2          2                                             series  \n",
      "3          2                                                     \n",
      "4          2                                             series  \n",
      "   PhraseId  SentenceId                                             Phrase  \\\n",
      "0    156061        8545  An intermittently pleasing but mostly routine ...   \n",
      "1    156062        8545  An intermittently pleasing but mostly routine ...   \n",
      "2    156063        8545                                                 An   \n",
      "3    156064        8545  intermittently pleasing but mostly routine effort   \n",
      "4    156065        8545         intermittently pleasing but mostly routine   \n",
      "\n",
      "                                  cleaned_phrase  \n",
      "0  intermittently pleasing mostly routine effort  \n",
      "1  intermittently pleasing mostly routine effort  \n",
      "2                                                 \n",
      "3  intermittently pleasing mostly routine effort  \n",
      "4         intermittently pleasing mostly routine  \n"
     ]
    }
   ],
   "source": [
    "import pandas as pd\n",
    "import nltk\n",
    "from nltk.corpus import stopwords\n",
    "from nltk.tokenize import word_tokenize\n",
    "from nltk.stem import WordNetLemmatizer\n",
    "import string\n",
    "\n",
    "# Download necessary NLTK data\n",
    "nltk.download('stopwords')\n",
    "nltk.download('punkt')\n",
    "nltk.download('wordnet')\n",
    "\n",
    "# Define preprocessing function\n",
    "def preprocess_text(text):\n",
    "    if isinstance(text, str):\n",
    "        # Lowercase conversion\n",
    "        text = text.lower()\n",
    "        # Remove punctuation\n",
    "        text = text.translate(str.maketrans('', '', string.punctuation))\n",
    "        # Tokenization\n",
    "        tokens = word_tokenize(text)\n",
    "        # Remove stopwords\n",
    "        tokens = [word for word in tokens if word not in stopwords.words('english')]\n",
    "        # Lemmatization\n",
    "        lemmatizer = WordNetLemmatizer()\n",
    "        tokens = [lemmatizer.lemmatize(word) for word in tokens]\n",
    "        return ' '.join(tokens)\n",
    "    else:\n",
    "        return ''\n",
    "\n",
    "# Load datasets\n",
    "train_data = pd.read_csv(r\"C:\\Users\\youse\\Desktop\\CodeClause\\sentiment-analysis-on-movie-reviews\\train.tsv\\train.tsv\", delimiter='\\t')\n",
    "test_data = pd.read_csv(r\"C:\\Users\\youse\\Desktop\\CodeClause\\sentiment-analysis-on-movie-reviews\\test.tsv\\test.tsv\", delimiter='\\t')\n",
    "\n",
    "# Apply preprocessing to the 'Phrase' column\n",
    "train_data['cleaned_phrase'] = train_data['Phrase'].apply(preprocess_text)\n",
    "test_data['cleaned_phrase'] = test_data['Phrase'].apply(preprocess_text)\n",
    "\n",
    "# Display the first few rows of the datasets\n",
    "print(train_data.head())\n",
    "print(test_data.head())\n"
   ]
  },
  {
   "cell_type": "markdown",
   "metadata": {},
   "source": [
    "##  Sentiment Analysis Model"
   ]
  },
  {
   "cell_type": "code",
   "execution_count": 28,
   "metadata": {},
   "outputs": [
    {
     "name": "stdout",
     "output_type": "stream",
     "text": [
      "Accuracy: 0.6179354094579008\n",
      "Precision: 0.6005756264060833\n",
      "Recall: 0.6179354094579008\n",
      "F1-Score: 0.5885278496121381\n",
      "Confusion Matrix: [[  275   679   409    47     6]\n",
      " [  148  1869  3182   316    12]\n",
      " [   43   830 13656  1062    48]\n",
      " [    6   196  3228  3007   270]\n",
      " [    1    31   341  1070   480]]\n"
     ]
    },
    {
     "name": "stderr",
     "output_type": "stream",
     "text": [
      "c:\\Users\\youse\\AppData\\Local\\Programs\\Python\\Python311\\Lib\\site-packages\\sklearn\\linear_model\\_logistic.py:460: ConvergenceWarning: lbfgs failed to converge (status=1):\n",
      "STOP: TOTAL NO. of ITERATIONS REACHED LIMIT.\n",
      "\n",
      "Increase the number of iterations (max_iter) or scale the data as shown in:\n",
      "    https://scikit-learn.org/stable/modules/preprocessing.html\n",
      "Please also refer to the documentation for alternative solver options:\n",
      "    https://scikit-learn.org/stable/modules/linear_model.html#logistic-regression\n",
      "  n_iter_i = _check_optimize_result(\n"
     ]
    }
   ],
   "source": [
    "from sklearn.feature_extraction.text import TfidfVectorizer\n",
    "from sklearn.model_selection import train_test_split\n",
    "from sklearn.linear_model import LogisticRegression\n",
    "from sklearn.metrics import accuracy_score, precision_score, recall_score, f1_score, confusion_matrix\n",
    "\n",
    "# Vectorization\n",
    "vectorizer = TfidfVectorizer(max_features=5000)\n",
    "X_train = vectorizer.fit_transform(train_data['cleaned_phrase'])\n",
    "y_train = train_data['Sentiment']\n",
    "\n",
    "# Split data into training and validation sets\n",
    "X_train, X_val, y_train, y_val = train_test_split(X_train, y_train, test_size=0.2, random_state=42)\n",
    "\n",
    "# Train the model\n",
    "model = LogisticRegression()\n",
    "model.fit(X_train, y_train)\n",
    "\n",
    "# Predictions and evaluation\n",
    "y_pred = model.predict(X_val)\n",
    "print('Accuracy:', accuracy_score(y_val, y_pred))\n",
    "print('Precision:', precision_score(y_val, y_pred, average='weighted'))\n",
    "print('Recall:', recall_score(y_val, y_pred, average='weighted'))\n",
    "print('F1-Score:', f1_score(y_val, y_pred, average='weighted'))\n",
    "print('Confusion Matrix:', confusion_matrix(y_val, y_pred))\n"
   ]
  },
  {
   "cell_type": "markdown",
   "metadata": {},
   "source": [
    "## Model Evaluation"
   ]
  },
  {
   "cell_type": "code",
   "execution_count": 29,
   "metadata": {},
   "outputs": [
    {
     "name": "stdout",
     "output_type": "stream",
     "text": [
      "   PhraseId  SentenceId                                             Phrase  \\\n",
      "0    156061        8545  An intermittently pleasing but mostly routine ...   \n",
      "1    156062        8545  An intermittently pleasing but mostly routine ...   \n",
      "2    156063        8545                                                 An   \n",
      "3    156064        8545  intermittently pleasing but mostly routine effort   \n",
      "4    156065        8545         intermittently pleasing but mostly routine   \n",
      "\n",
      "                                  cleaned_phrase  predicted_sentiment  \n",
      "0  intermittently pleasing mostly routine effort                    3  \n",
      "1  intermittently pleasing mostly routine effort                    3  \n",
      "2                                                                   2  \n",
      "3  intermittently pleasing mostly routine effort                    3  \n",
      "4         intermittently pleasing mostly routine                    3  \n"
     ]
    }
   ],
   "source": [
    "# Vectorize the test data and predict\n",
    "X_test = vectorizer.transform(test_data['cleaned_phrase'])\n",
    "test_data['predicted_sentiment'] = model.predict(X_test)\n",
    "\n",
    "# Save the results\n",
    "test_data.to_csv('predicted_test_data.csv', index=False)\n",
    "print(test_data.head())\n"
   ]
  },
  {
   "cell_type": "markdown",
   "metadata": {},
   "source": [
    "## Reporting"
   ]
  },
  {
   "cell_type": "code",
   "execution_count": 30,
   "metadata": {},
   "outputs": [
    {
     "data": {
      "image/png": "[encoded data removed]",
      "text/plain": [
       "<Figure size 640x480 with 2 Axes>"
      ]
     },
     "metadata": {},
     "output_type": "display_data"
    },
    {
     "data": {
      "image/png": "[encoded data removed]",
      "text/plain": [
       "<Figure size 640x480 with 1 Axes>"
      ]
     },
     "metadata": {},
     "output_type": "display_data"
    }
   ],
   "source": [
    "import matplotlib.pyplot as plt\n",
    "import seaborn as sns\n",
    "\n",
    "# Confusion Matrix visualization\n",
    "conf_matrix = confusion_matrix(y_val, y_pred)\n",
    "sns.heatmap(conf_matrix, annot=True, fmt='d', cmap='Blues')\n",
    "plt.xlabel('Predicted')\n",
    "plt.ylabel('Actual')\n",
    "plt.title('Confusion Matrix')\n",
    "plt.show()\n",
    "\n",
    "# Distribution of predicted sentiments in test data\n",
    "sns.countplot(x='predicted_sentiment', data=test_data)\n",
    "plt.xlabel('Predicted Sentiment')\n",
    "plt.ylabel('Count')\n",
    "plt.title('Distribution of Predicted Sentiments')\n",
    "plt.show()\n"
   ]
  }
 ],
 "metadata": {
  "kernelspec": {
   "display_name": "Python 3",
   "language": "python",
   "name": "python3"
  },
  "language_info": {
   "codemirror_mode": {
    "name": "ipython",
    "version": 3
   },
   "file_extension": ".py",
   "mimetype": "text/x-python",
   "name": "python",
   "nbconvert_exporter": "python",
   "pygments_lexer": "ipython3",
   "version": "3.11.5"
  }
 },
 "nbformat": 4,
 "nbformat_minor": 2
}
